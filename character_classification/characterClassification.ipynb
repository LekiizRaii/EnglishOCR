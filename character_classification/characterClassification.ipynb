{
 "cells": [
  {
   "cell_type": "code",
   "execution_count": 1,
   "id": "852c3dea",
   "metadata": {},
   "outputs": [],
   "source": [
    "import numpy as np\n",
    "import pandas as pd\n",
    "import matplotlib.pyplot as plt\n",
    "import os\n",
    "import cv2\n",
    "import tensorflow as tf\n",
    "from tensorflow.keras.preprocessing.image import load_img, img_to_array, ImageDataGenerator\n",
    "from keras.preprocessing import image\n",
    "from tensorflow.keras.utils import to_categorical"
   ]
  },
  {
   "cell_type": "code",
   "execution_count": 2,
   "id": "803c01a6",
   "metadata": {},
   "outputs": [
    {
     "name": "stdout",
     "output_type": "stream",
     "text": [
      "['img001-001.png', 'img001-002.png', 'img001-003.png', 'img001-004.png', 'img001-005.png']\n",
      "3410\n"
     ]
    }
   ],
   "source": [
    "directory = 'Img'\n",
    "files=os.listdir(directory)\n",
    "print(files[0:5])\n",
    "print(len(files))"
   ]
  },
  {
   "cell_type": "code",
   "execution_count": 3,
   "id": "26e05e14",
   "metadata": {},
   "outputs": [
    {
     "name": "stderr",
     "output_type": "stream",
     "text": [
      "C:\\Users\\HP\\AppData\\Local\\Packages\\PythonSoftwareFoundation.Python.3.10_qbz5n2kfra8p0\\LocalCache\\local-packages\\Python310\\site-packages\\keras\\src\\utils\\image_utils.py:409: UserWarning: grayscale is deprecated. Please use color_mode = \"grayscale\"\n",
      "  warnings.warn(\n"
     ]
    },
    {
     "name": "stdout",
     "output_type": "stream",
     "text": [
      "['img001-001.png', 'img001-002.png', 'img001-003.png', 'img001-004.png', 'img001-005.png']\n",
      "3410\n"
     ]
    }
   ],
   "source": [
    "# filename and image data\n",
    "datafile=[]\n",
    "data=[]\n",
    "for file in files:\n",
    "    image=load_img(os.path.join(directory,file),grayscale=True,color_mode='rgb',target_size=(40,40))\n",
    "    image=img_to_array(image)\n",
    "    image=image/255.0\n",
    "    data+=[image]\n",
    "    datafile+=[file]\n",
    "print(datafile[0:5])\n",
    "print(len(datafile))"
   ]
  },
  {
   "cell_type": "code",
   "execution_count": 4,
   "id": "6861b776",
   "metadata": {},
   "outputs": [],
   "source": [
    "data1=np.array(data)"
   ]
  },
  {
   "cell_type": "code",
   "execution_count": 5,
   "id": "3960b53f",
   "metadata": {},
   "outputs": [
    {
     "data": {
      "text/html": [
       "<div>\n",
       "<style scoped>\n",
       "    .dataframe tbody tr th:only-of-type {\n",
       "        vertical-align: middle;\n",
       "    }\n",
       "\n",
       "    .dataframe tbody tr th {\n",
       "        vertical-align: top;\n",
       "    }\n",
       "\n",
       "    .dataframe thead th {\n",
       "        text-align: right;\n",
       "    }\n",
       "</style>\n",
       "<table border=\"1\" class=\"dataframe\">\n",
       "  <thead>\n",
       "    <tr style=\"text-align: right;\">\n",
       "      <th></th>\n",
       "      <th>image</th>\n",
       "      <th>label</th>\n",
       "    </tr>\n",
       "  </thead>\n",
       "  <tbody>\n",
       "    <tr>\n",
       "      <th>0</th>\n",
       "      <td>Img/img001-001.png</td>\n",
       "      <td>0</td>\n",
       "    </tr>\n",
       "    <tr>\n",
       "      <th>1</th>\n",
       "      <td>Img/img001-002.png</td>\n",
       "      <td>0</td>\n",
       "    </tr>\n",
       "    <tr>\n",
       "      <th>2</th>\n",
       "      <td>Img/img001-003.png</td>\n",
       "      <td>0</td>\n",
       "    </tr>\n",
       "    <tr>\n",
       "      <th>3</th>\n",
       "      <td>Img/img001-004.png</td>\n",
       "      <td>0</td>\n",
       "    </tr>\n",
       "    <tr>\n",
       "      <th>4</th>\n",
       "      <td>Img/img001-005.png</td>\n",
       "      <td>0</td>\n",
       "    </tr>\n",
       "  </tbody>\n",
       "</table>\n",
       "</div>"
      ],
      "text/plain": [
       "                image label\n",
       "0  Img/img001-001.png     0\n",
       "1  Img/img001-002.png     0\n",
       "2  Img/img001-003.png     0\n",
       "3  Img/img001-004.png     0\n",
       "4  Img/img001-005.png     0"
      ]
     },
     "execution_count": 5,
     "metadata": {},
     "output_type": "execute_result"
    }
   ],
   "source": [
    "# filename and label\n",
    "engl=pd.read_csv('english.csv')\n",
    "engl.head()"
   ]
  },
  {
   "cell_type": "code",
   "execution_count": 6,
   "id": "8d1b1887",
   "metadata": {},
   "outputs": [
    {
     "name": "stdout",
     "output_type": "stream",
     "text": [
      "[ 0  0  0 ... 61 61 61]\n",
      "Index(['0', '1', '2', '3', '4', '5', '6', '7', '8', '9', 'A', 'B', 'C', 'D',\n",
      "       'E', 'F', 'G', 'H', 'I', 'J', 'K', 'L', 'M', 'N', 'O', 'P', 'Q', 'R',\n",
      "       'S', 'T', 'U', 'V', 'W', 'X', 'Y', 'Z', 'a', 'b', 'c', 'd', 'e', 'f',\n",
      "       'g', 'h', 'i', 'j', 'k', 'l', 'm', 'n', 'o', 'p', 'q', 'r', 's', 't',\n",
      "       'u', 'v', 'w', 'x', 'y', 'z'],\n",
      "      dtype='object')\n"
     ]
    }
   ],
   "source": [
    "factlabel=pd.factorize(engl['label'])\n",
    "\n",
    "print(factlabel[0])\n",
    "print(factlabel[1])"
   ]
  },
  {
   "cell_type": "code",
   "execution_count": 7,
   "id": "adec0bce",
   "metadata": {},
   "outputs": [
    {
     "name": "stdout",
     "output_type": "stream",
     "text": [
      "                image label            file  labeln\n",
      "0  Img/img001-001.png     0  img001-001.png       0\n",
      "1  Img/img001-002.png     0  img001-002.png       0\n",
      "2  Img/img001-003.png     0  img001-003.png       0\n",
      "3  Img/img001-004.png     0  img001-004.png       0\n",
      "4  Img/img001-005.png     0  img001-005.png       0\n"
     ]
    }
   ],
   "source": [
    "labelfile=[]\n",
    "for item in engl['image']:\n",
    "    labelfile+=[item[4:]]\n",
    "engl['file']=labelfile\n",
    "engl['labeln']=factlabel[0]\n",
    "\n",
    "print(engl.head())"
   ]
  },
  {
   "cell_type": "code",
   "execution_count": 8,
   "id": "e84620a9",
   "metadata": {},
   "outputs": [
    {
     "name": "stdout",
     "output_type": "stream",
     "text": [
      "[0, 0, 0, 0, 0]\n",
      "['img001-001.png', 'img001-002.png', 'img001-003.png', 'img001-004.png', 'img001-005.png']\n"
     ]
    }
   ],
   "source": [
    "# set labels in image data order\n",
    "engl2=[]\n",
    "for item in datafile:\n",
    "    engl2+=[engl['labeln'][engl['file']==item].values[0]]\n",
    "    \n",
    "print(engl2[0:5])\n",
    "print(datafile[0:5])"
   ]
  },
  {
   "cell_type": "code",
   "execution_count": 9,
   "id": "2f33ffa9",
   "metadata": {},
   "outputs": [
    {
     "name": "stdout",
     "output_type": "stream",
     "text": [
      "Data Shape:(3410, 40, 40, 1)\n",
      "Labels shape: (3410, 62)\n"
     ]
    }
   ],
   "source": [
    "labels1=to_categorical(engl2)\n",
    "labels2=np.array(labels1)\n",
    "\n",
    "print(\"Data Shape:{}\\nLabels shape: {}\".format(data1.shape,labels2.shape))\n",
    "xtr = data1\n",
    "xt = data1"
   ]
  },
  {
   "cell_type": "code",
   "execution_count": 10,
   "id": "28acd6b2",
   "metadata": {},
   "outputs": [],
   "source": [
    "# from sklearn.model_selection import train_test_split\n",
    "# trainx,testx,trainy,testy=train_test_split(data1,labels2,test_size=0.2,random_state=44)\n",
    "import re\n",
    "import random\n",
    "\n",
    "x_train = list()\n",
    "x_test = list()\n",
    "y_train = list()\n",
    "y_test = list()\n",
    "\n",
    "for i in range(11, 63):\n",
    "  id_list = list(range(1, 56))\n",
    "  random.shuffle(id_list)\n",
    "  str_num = ''\n",
    "  if i < 10:\n",
    "    str_num = '0' + str(i)\n",
    "  else:\n",
    "    str_num = str(i)\n",
    "  for j in id_list[:48]:\n",
    "    str_id = ''\n",
    "    if j < 10:\n",
    "      str_id = '0' + str(j)\n",
    "    else:\n",
    "      str_id = str(j)\n",
    "    file_name = 'img0' + str_num + '-0' + str_id + '.png'\n",
    "    index = datafile.index(file_name)\n",
    "    x_train.append(data1[index])\n",
    "    y_train.append(labels2[index])\n",
    "  for j in id_list[48:]:\n",
    "    str_id = ''\n",
    "    if j < 10:\n",
    "      str_id = '0' + str(j)\n",
    "    else:\n",
    "      str_id = str(j)\n",
    "    file_name = 'img0' + str_num + '-0' + str_id + '.png'\n",
    "    index = datafile.index(file_name)\n",
    "    x_test.append(data1[index])\n",
    "    y_test.append(labels2[index])\n",
    "\n",
    "x_train = np.array(x_train)\n",
    "y_train = np.array(y_train)\n",
    "x_test = np.array(x_test)\n",
    "y_test = np.array(y_test)\n",
    "\n",
    "train_index = list(range(x_train.shape[0]))\n",
    "random.shuffle(train_index)\n",
    "x_train = x_train[train_index]\n",
    "y_train = y_train[train_index]\n",
    "\n",
    "test_index = list(range(x_test.shape[0]))\n",
    "random.shuffle(test_index)\n",
    "x_test = x_test[test_index]\n",
    "y_test = y_test[test_index]\n"
   ]
  },
  {
   "cell_type": "code",
   "execution_count": 11,
   "id": "1ec91346",
   "metadata": {},
   "outputs": [
    {
     "name": "stdout",
     "output_type": "stream",
     "text": [
      "(2496, 40, 40, 1)\n",
      "(2496, 62)\n",
      "(364, 40, 40, 1)\n",
      "(364, 62)\n",
      "(3410, 40, 40, 1)\n",
      "(3410, 62)\n",
      "[0. 0. 0. 0. 0. 0. 0. 0. 0. 0. 0. 0. 0. 0. 0. 0. 0. 0. 0. 0. 0. 0. 0. 0.\n",
      " 0. 0. 0. 0. 0. 0. 0. 0. 0. 0. 0. 0. 0. 0. 0. 0. 0. 0. 0. 0. 0. 0. 0. 0.\n",
      " 0. 0. 0. 0. 0. 0. 1. 0. 0. 0. 0. 0. 0. 0.]\n"
     ]
    },
    {
     "data": {
      "text/plain": [
       "<matplotlib.image.AxesImage at 0x1de19472800>"
      ]
     },
     "execution_count": 11,
     "metadata": {},
     "output_type": "execute_result"
    },
    {
     "data": {
      "image/png": "[encoded data removed]",
      "text/plain": [
       "<Figure size 640x480 with 1 Axes>"
      ]
     },
     "metadata": {},
     "output_type": "display_data"
    }
   ],
   "source": [
    "print(x_train.shape)\n",
    "print(y_train.shape)\n",
    "print(x_test.shape)\n",
    "print(y_test.shape)\n",
    "print(data1.shape)\n",
    "print(labels2.shape)\n",
    "print(y_train[13])\n",
    "plt.imshow(1 - x_train[14], cmap='gray')"
   ]
  },
  {
   "cell_type": "code",
   "execution_count": 12,
   "id": "5d4fcf57",
   "metadata": {},
   "outputs": [],
   "source": [
    "import tensorflow as tf\n",
    "from tensorflow.keras import datasets, layers, models"
   ]
  },
  {
   "cell_type": "code",
   "execution_count": 33,
   "id": "ef5387c5",
   "metadata": {},
   "outputs": [
    {
     "name": "stdout",
     "output_type": "stream",
     "text": [
      "Epoch 1/50\n",
      "39/39 [==============================] - 5s 105ms/step - loss: 4.1005 - accuracy: 0.0172 - val_loss: 4.0471 - val_accuracy: 0.0357\n",
      "Epoch 2/50\n",
      "39/39 [==============================] - 4s 99ms/step - loss: 4.0294 - accuracy: 0.0168 - val_loss: 3.9470 - val_accuracy: 0.0385\n",
      "Epoch 3/50\n",
      "39/39 [==============================] - 4s 99ms/step - loss: 3.8751 - accuracy: 0.0473 - val_loss: 3.6359 - val_accuracy: 0.1401\n",
      "Epoch 4/50\n",
      "39/39 [==============================] - 4s 104ms/step - loss: 3.5329 - accuracy: 0.0905 - val_loss: 3.0891 - val_accuracy: 0.2665\n",
      "Epoch 5/50\n",
      "39/39 [==============================] - 4s 95ms/step - loss: 3.0751 - accuracy: 0.1947 - val_loss: 2.5460 - val_accuracy: 0.3736\n",
      "Epoch 6/50\n",
      "39/39 [==============================] - 4s 112ms/step - loss: 2.7145 - accuracy: 0.2700 - val_loss: 2.1147 - val_accuracy: 0.4863\n",
      "Epoch 7/50\n",
      "39/39 [==============================] - 4s 107ms/step - loss: 2.3835 - accuracy: 0.3345 - val_loss: 1.7737 - val_accuracy: 0.5687\n",
      "Epoch 8/50\n",
      "39/39 [==============================] - 4s 94ms/step - loss: 2.1503 - accuracy: 0.3870 - val_loss: 1.5708 - val_accuracy: 0.6236\n",
      "Epoch 9/50\n",
      "39/39 [==============================] - 4s 97ms/step - loss: 1.9632 - accuracy: 0.4271 - val_loss: 1.4121 - val_accuracy: 0.6456\n",
      "Epoch 10/50\n",
      "39/39 [==============================] - 4s 97ms/step - loss: 1.7552 - accuracy: 0.4896 - val_loss: 1.2646 - val_accuracy: 0.6896\n",
      "Epoch 11/50\n",
      "39/39 [==============================] - 4s 97ms/step - loss: 1.6358 - accuracy: 0.5188 - val_loss: 1.2326 - val_accuracy: 0.6896\n",
      "Epoch 12/50\n",
      "39/39 [==============================] - 4s 96ms/step - loss: 1.5467 - accuracy: 0.5381 - val_loss: 1.1191 - val_accuracy: 0.7088\n",
      "Epoch 13/50\n",
      "39/39 [==============================] - 4s 98ms/step - loss: 1.4631 - accuracy: 0.5593 - val_loss: 1.0530 - val_accuracy: 0.7088\n",
      "Epoch 14/50\n",
      "39/39 [==============================] - 4s 111ms/step - loss: 1.3245 - accuracy: 0.6062 - val_loss: 1.0749 - val_accuracy: 0.7115\n",
      "Epoch 15/50\n",
      "39/39 [==============================] - 4s 106ms/step - loss: 1.3231 - accuracy: 0.6002 - val_loss: 0.9901 - val_accuracy: 0.7170\n",
      "Epoch 16/50\n",
      "39/39 [==============================] - 4s 108ms/step - loss: 1.2572 - accuracy: 0.6142 - val_loss: 0.9405 - val_accuracy: 0.7143\n",
      "Epoch 17/50\n",
      "39/39 [==============================] - 4s 104ms/step - loss: 1.1884 - accuracy: 0.6338 - val_loss: 0.9218 - val_accuracy: 0.7280\n",
      "Epoch 18/50\n",
      "39/39 [==============================] - 4s 106ms/step - loss: 1.1442 - accuracy: 0.6446 - val_loss: 0.8611 - val_accuracy: 0.7555\n",
      "Epoch 19/50\n",
      "39/39 [==============================] - 4s 106ms/step - loss: 1.0333 - accuracy: 0.6727 - val_loss: 0.8606 - val_accuracy: 0.7473\n",
      "Epoch 20/50\n",
      "39/39 [==============================] - 4s 106ms/step - loss: 1.0438 - accuracy: 0.6779 - val_loss: 0.8316 - val_accuracy: 0.7473\n",
      "Epoch 21/50\n",
      "39/39 [==============================] - 4s 110ms/step - loss: 0.9740 - accuracy: 0.7011 - val_loss: 0.8543 - val_accuracy: 0.7335\n",
      "Epoch 22/50\n",
      "39/39 [==============================] - 4s 107ms/step - loss: 0.9739 - accuracy: 0.6875 - val_loss: 0.8115 - val_accuracy: 0.7473\n",
      "Epoch 23/50\n",
      "39/39 [==============================] - 4s 105ms/step - loss: 0.9181 - accuracy: 0.7095 - val_loss: 0.7624 - val_accuracy: 0.7582\n",
      "Epoch 24/50\n",
      "39/39 [==============================] - 4s 106ms/step - loss: 0.8919 - accuracy: 0.7308 - val_loss: 0.7454 - val_accuracy: 0.7637\n",
      "Epoch 25/50\n",
      "39/39 [==============================] - 3s 86ms/step - loss: 0.8456 - accuracy: 0.7288 - val_loss: 0.7536 - val_accuracy: 0.7802\n",
      "Epoch 26/50\n",
      "39/39 [==============================] - 3s 85ms/step - loss: 0.8424 - accuracy: 0.7312 - val_loss: 0.7364 - val_accuracy: 0.7775\n",
      "Epoch 27/50\n",
      "39/39 [==============================] - 5s 123ms/step - loss: 0.8340 - accuracy: 0.7380 - val_loss: 0.7405 - val_accuracy: 0.7775\n",
      "Epoch 28/50\n",
      "39/39 [==============================] - 4s 109ms/step - loss: 0.7810 - accuracy: 0.7504 - val_loss: 0.7412 - val_accuracy: 0.7885\n",
      "Epoch 29/50\n",
      "39/39 [==============================] - 4s 109ms/step - loss: 0.7522 - accuracy: 0.7568 - val_loss: 0.7278 - val_accuracy: 0.7775\n",
      "Epoch 30/50\n",
      "39/39 [==============================] - 4s 108ms/step - loss: 0.7116 - accuracy: 0.7640 - val_loss: 0.7079 - val_accuracy: 0.7830\n",
      "Epoch 31/50\n",
      "39/39 [==============================] - 4s 105ms/step - loss: 0.7314 - accuracy: 0.7584 - val_loss: 0.6976 - val_accuracy: 0.7912\n",
      "Epoch 32/50\n",
      "39/39 [==============================] - 4s 106ms/step - loss: 0.7012 - accuracy: 0.7724 - val_loss: 0.6946 - val_accuracy: 0.7830\n",
      "Epoch 33/50\n",
      "39/39 [==============================] - 4s 107ms/step - loss: 0.7135 - accuracy: 0.7632 - val_loss: 0.6840 - val_accuracy: 0.7857\n",
      "Epoch 34/50\n",
      "39/39 [==============================] - 4s 103ms/step - loss: 0.6744 - accuracy: 0.7732 - val_loss: 0.6816 - val_accuracy: 0.8022\n",
      "Epoch 35/50\n",
      "39/39 [==============================] - 4s 105ms/step - loss: 0.6601 - accuracy: 0.7748 - val_loss: 0.7061 - val_accuracy: 0.7802\n",
      "Epoch 36/50\n",
      "39/39 [==============================] - 4s 107ms/step - loss: 0.6755 - accuracy: 0.7768 - val_loss: 0.6738 - val_accuracy: 0.7885\n",
      "Epoch 37/50\n",
      "39/39 [==============================] - 4s 107ms/step - loss: 0.6588 - accuracy: 0.7869 - val_loss: 0.6947 - val_accuracy: 0.7995\n",
      "Epoch 38/50\n",
      "39/39 [==============================] - 4s 106ms/step - loss: 0.6153 - accuracy: 0.7949 - val_loss: 0.6937 - val_accuracy: 0.7857\n",
      "Epoch 39/50\n",
      "39/39 [==============================] - 5s 117ms/step - loss: 0.5810 - accuracy: 0.8109 - val_loss: 0.6809 - val_accuracy: 0.7885\n",
      "Epoch 40/50\n",
      "39/39 [==============================] - 4s 90ms/step - loss: 0.5979 - accuracy: 0.8009 - val_loss: 0.6780 - val_accuracy: 0.7802\n",
      "Epoch 41/50\n",
      "39/39 [==============================] - 3s 88ms/step - loss: 0.5896 - accuracy: 0.7977 - val_loss: 0.6685 - val_accuracy: 0.7857\n",
      "Epoch 42/50\n",
      "39/39 [==============================] - 4s 94ms/step - loss: 0.5576 - accuracy: 0.8081 - val_loss: 0.6565 - val_accuracy: 0.8132\n",
      "Epoch 43/50\n",
      "39/39 [==============================] - 5s 125ms/step - loss: 0.5426 - accuracy: 0.8201 - val_loss: 0.6905 - val_accuracy: 0.8022\n",
      "Epoch 44/50\n",
      "39/39 [==============================] - 4s 98ms/step - loss: 0.5497 - accuracy: 0.8121 - val_loss: 0.6788 - val_accuracy: 0.7912\n",
      "Epoch 45/50\n",
      "39/39 [==============================] - 3s 88ms/step - loss: 0.5471 - accuracy: 0.8181 - val_loss: 0.6688 - val_accuracy: 0.7995\n",
      "Epoch 46/50\n",
      "39/39 [==============================] - 4s 94ms/step - loss: 0.5234 - accuracy: 0.8213 - val_loss: 0.6918 - val_accuracy: 0.7830\n",
      "Epoch 47/50\n",
      "39/39 [==============================] - 3s 87ms/step - loss: 0.5118 - accuracy: 0.8301 - val_loss: 0.6661 - val_accuracy: 0.7995\n",
      "Epoch 48/50\n",
      "39/39 [==============================] - 3s 81ms/step - loss: 0.4828 - accuracy: 0.8417 - val_loss: 0.6533 - val_accuracy: 0.8049\n",
      "Epoch 49/50\n",
      "39/39 [==============================] - 3s 85ms/step - loss: 0.5261 - accuracy: 0.8249 - val_loss: 0.6542 - val_accuracy: 0.7830\n",
      "Epoch 50/50\n",
      "39/39 [==============================] - 3s 88ms/step - loss: 0.5068 - accuracy: 0.8305 - val_loss: 0.6688 - val_accuracy: 0.7885\n"
     ]
    }
   ],
   "source": [
    "model = models.Sequential()\n",
    "# Convolutional layers\n",
    "model.add(layers.Conv2D(32, (3, 3), activation='relu', input_shape=(40, 40, 1)))\n",
    "model.add(layers.MaxPooling2D((2, 2)))\n",
    "model.add(layers.Dropout(0.2))\n",
    "model.add(layers.Conv2D(64, (3, 3), activation='relu'))\n",
    "model.add(layers.MaxPooling2D((2, 2)))\n",
    "model.add(layers.Dropout(0.2))\n",
    "model.add(layers.Conv2D(64, (3, 3), activation='relu'))\n",
    "model.add(layers.MaxPooling2D((2, 2)))\n",
    "model.add(layers.Dropout(0.2))\n",
    "\n",
    "# Flatten the output for the fully connected layers\n",
    "model.add(layers.Flatten())\n",
    "\n",
    "# Fully connected layers\n",
    "model.add(layers.Dense(128, activation='relu'))\n",
    "model.add(layers.Dropout(0.5))  # Dropout layer to reduce overfitting\n",
    "model.add(layers.Dense(62, activation='softmax'))  # Adjust 'num_classes' as needed\n",
    "model.compile(loss = 'categorical_crossentropy', optimizer='adam', metrics=['accuracy'])\n",
    "history=model.fit(tf.expand_dims(x_train, axis=-1), y_train, epochs=50, batch_size=64, validation_data=(x_test, y_test))"
   ]
  },
  {
   "cell_type": "code",
   "execution_count": 34,
   "id": "bfed33a9",
   "metadata": {},
   "outputs": [
    {
     "name": "stdout",
     "output_type": "stream",
     "text": [
      "Model: \"sequential_14\"\n",
      "_________________________________________________________________\n",
      " Layer (type)                Output Shape              Param #   \n",
      "=================================================================\n",
      " conv2d_42 (Conv2D)          (None, 38, 38, 32)        320       \n",
      "                                                                 \n",
      " max_pooling2d_42 (MaxPooli  (None, 19, 19, 32)        0         \n",
      " ng2D)                                                           \n",
      "                                                                 \n",
      " dropout_56 (Dropout)        (None, 19, 19, 32)        0         \n",
      "                                                                 \n",
      " conv2d_43 (Conv2D)          (None, 17, 17, 64)        18496     \n",
      "                                                                 \n",
      " max_pooling2d_43 (MaxPooli  (None, 8, 8, 64)          0         \n",
      " ng2D)                                                           \n",
      "                                                                 \n",
      " dropout_57 (Dropout)        (None, 8, 8, 64)          0         \n",
      "                                                                 \n",
      " conv2d_44 (Conv2D)          (None, 6, 6, 64)          36928     \n",
      "                                                                 \n",
      " max_pooling2d_44 (MaxPooli  (None, 3, 3, 64)          0         \n",
      " ng2D)                                                           \n",
      "                                                                 \n",
      " dropout_58 (Dropout)        (None, 3, 3, 64)          0         \n",
      "                                                                 \n",
      " flatten_14 (Flatten)        (None, 576)               0         \n",
      "                                                                 \n",
      " dense_32 (Dense)            (None, 128)               73856     \n",
      "                                                                 \n",
      " dropout_59 (Dropout)        (None, 128)               0         \n",
      "                                                                 \n",
      " dense_33 (Dense)            (None, 62)                7998      \n",
      "                                                                 \n",
      "=================================================================\n",
      "Total params: 137598 (537.49 KB)\n",
      "Trainable params: 137598 (537.49 KB)\n",
      "Non-trainable params: 0 (0.00 Byte)\n",
      "_________________________________________________________________\n",
      "None\n"
     ]
    }
   ],
   "source": [
    "print(model.summary())"
   ]
  },
  {
   "cell_type": "code",
   "execution_count": null,
   "id": "4aa56a2e",
   "metadata": {},
   "outputs": [],
   "source": [
    "# model = models.Sequential()\n",
    "# model.add(layers.Conv2D(512,(5,5),activation='relu',input_shape=(100,100,3)))\n",
    "# model.add(layers.MaxPool2D(2,2))\n",
    "# model.add(layers.Conv2D(256,(3,3),activation='relu'))\n",
    "# model.add(layers.MaxPool2D(2,2))\n",
    "# model.add(layers.Conv2D(256,(3,3),activation='relu'))\n",
    "# model.add(layers.MaxPool2D(2,2))\n",
    "# model.add(layers.Flatten())\n",
    "# model.add(layers.Dense(512,activation='relu'))\n",
    "# model.add(layers.Dense(1024,activation='relu'))\n",
    "# model.add(layers.Dense(512,activation='relu'))\n",
    "# model.add(layers.Dense(256,activation='sigmoid'))\n",
    "# model.add(layers.Dense(62,activation='softmax'))\n",
    "# model.compile(loss='categorical_crossentropy',optimizer='adam',metrics=['accuracy'])\n",
    "# history=model.fit(trainx,trainy,epochs=1,validation_data = (testx,testy))"
   ]
  },
  {
   "cell_type": "code",
   "execution_count": 35,
   "id": "5ca51f5d",
   "metadata": {},
   "outputs": [
    {
     "name": "stdout",
     "output_type": "stream",
     "text": [
      "12/12 - 0s - loss: 0.6688 - accuracy: 0.7885 - 144ms/epoch - 12ms/step\n"
     ]
    },
    {
     "data": {
      "image/png": "[encoded data removed]",
      "text/plain": [
       "<Figure size 640x480 with 1 Axes>"
      ]
     },
     "metadata": {},
     "output_type": "display_data"
    }
   ],
   "source": [
    "plt.plot(history.history['accuracy'], label='accuracy')\n",
    "plt.plot(history.history['val_accuracy'], label = 'val_accuracy')\n",
    "plt.xlabel('Epoch')\n",
    "plt.ylabel('Accuracy')\n",
    "plt.ylim([0.5, 1])\n",
    "plt.legend(loc='lower right')\n",
    "\n",
    "test_loss, test_acc = model.evaluate(x_test,  y_test, verbose=2)"
   ]
  },
  {
   "cell_type": "code",
   "execution_count": 36,
   "id": "49b540b6",
   "metadata": {},
   "outputs": [
    {
     "name": "stdout",
     "output_type": "stream",
     "text": [
      "0.7884615659713745\n"
     ]
    }
   ],
   "source": [
    "print(test_acc)"
   ]
  },
  {
   "cell_type": "code",
   "execution_count": 42,
   "id": "0086798c",
   "metadata": {},
   "outputs": [
    {
     "name": "stdout",
     "output_type": "stream",
     "text": [
      "(40, 40)\n"
     ]
    },
    {
     "data": {
      "text/plain": [
       "<matplotlib.image.AxesImage at 0x1de25925a50>"
      ]
     },
     "execution_count": 42,
     "metadata": {},
     "output_type": "execute_result"
    },
    {
     "data": {
      "image/png": "[encoded data removed]",
      "text/plain": [
       "<Figure size 640x480 with 1 Axes>"
      ]
     },
     "metadata": {},
     "output_type": "display_data"
    }
   ],
   "source": [
    "# Load the unknown image\n",
    "unknown_image = cv2.imread('testimg.png')  # Replace 'unknown_image.jpg' with the path to your image\n",
    "unknown_image = cv2.cvtColor(unknown_image, cv2.COLOR_BGR2GRAY)\n",
    "# Resize the image to (40,40)\n",
    "unknown_image = cv2.resize(unknown_image, (40,40))\n",
    "\n",
    "# Normalize pixel values to the range [0, 1]\n",
    "unknown_image_normalized = unknown_image/ 255.0\n",
    "print(unknown_image.shape)\n",
    "plt.imshow(unknown_image)"
   ]
  },
  {
   "cell_type": "code",
   "execution_count": 43,
   "id": "b2243d80",
   "metadata": {},
   "outputs": [
    {
     "name": "stdout",
     "output_type": "stream",
     "text": [
      "1/1 [==============================] - 0s 62ms/step\n",
      "S\n"
     ]
    }
   ],
   "source": [
    "# Make predictions\n",
    "predictions = model.predict(np.expand_dims(unknown_image, axis=0))\n",
    "# Interpret the predictions\n",
    "predicted_class_index = np.argmax(predictions)\n",
    "print(factlabel[1][predicted_class_index])"
   ]
  },
  {
   "cell_type": "code",
   "execution_count": null,
   "id": "94e92057",
   "metadata": {},
   "outputs": [],
   "source": [
    "import pickle\n",
    "\n",
    "# save the iris classification model as a pickle file\n",
    "model_pkl_file = \"iris_classifier_model.pkl\"  \n",
    "\n",
    "with open(model_pkl_file, 'wb') as file:  \n",
    "    pickle.dump(model, file)"
   ]
  }
 ],
 "metadata": {
  "kernelspec": {
   "display_name": "Python 3 (ipykernel)",
   "language": "python",
   "name": "python3"
  },
  "language_info": {
   "codemirror_mode": {
    "name": "ipython",
    "version": 3
   },
   "file_extension": ".py",
   "mimetype": "text/x-python",
   "name": "python",
   "nbconvert_exporter": "python",
   "pygments_lexer": "ipython3",
   "version": "3.10.11"
  }
 },
 "nbformat": 4,
 "nbformat_minor": 5
}
