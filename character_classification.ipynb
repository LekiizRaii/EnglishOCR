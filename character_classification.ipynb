{
 "cells": [
  {
   "cell_type": "code",
   "execution_count": 10,
   "metadata": {},
   "outputs": [],
   "source": [
    "import pickle\n",
    "# load model from pickle file\n",
    "with open(\"iris_classifier_model.pkl\", 'rb') as file:  \n",
    "    model = pickle.load(file)\n",
    "\n"
   ]
  },
  {
   "cell_type": "code",
   "execution_count": 11,
   "metadata": {},
   "outputs": [
    {
     "name": "stdout",
     "output_type": "stream",
     "text": [
      "(40, 40)\n"
     ]
    },
    {
     "data": {
      "text/plain": [
       "<matplotlib.image.AxesImage at 0x16ae567aaa0>"
      ]
     },
     "execution_count": 11,
     "metadata": {},
     "output_type": "execute_result"
    },
    {
     "data": {
      "image/png": "[encoded data removed]",
      "text/plain": [
       "<Figure size 640x480 with 1 Axes>"
      ]
     },
     "metadata": {},
     "output_type": "display_data"
    }
   ],
   "source": [
    "import cv2\n",
    "import matplotlib.pyplot as plt\n",
    "import numpy as np\n",
    "# Load the unknown image\n",
    "unknown_image = cv2.imread('testimg.png')  # Replace 'unknown_image.jpg' with the path to your image\n",
    "unknown_image = cv2.cvtColor(unknown_image, cv2.COLOR_BGR2GRAY)\n",
    "# Resize the image to (40,40)\n",
    "unknown_image = cv2.resize(unknown_image, (40,40))\n",
    "\n",
    "# Normalize pixel values to the range [0, 1]\n",
    "unknown_image = unknown_image/ 255.0\n",
    "print(unknown_image.shape)\n",
    "plt.imshow(unknown_image)"
   ]
  },
  {
   "cell_type": "code",
   "execution_count": 12,
   "metadata": {},
   "outputs": [
    {
     "name": "stdout",
     "output_type": "stream",
     "text": [
      "1/1 [==============================] - 0s 135ms/step\n",
      "J\n"
     ]
    }
   ],
   "source": [
    "# Make predictions\n",
    "predictions = model.predict(np.expand_dims(unknown_image, axis=0))\n",
    "# Interpret the predictions\n",
    "predicted_class_index = np.argmax(predictions)\n",
    "factlabel=['0', '1', '2', '3', '4', '5', '6', '7', '8', '9', 'A', 'B', 'C', 'D',\n",
    "       'E', 'F', 'G', 'H', 'I', 'J', 'K', 'L', 'M', 'N', 'O', 'P', 'Q', 'R',\n",
    "       'S', 'T', 'U', 'V', 'W', 'X', 'Y', 'Z', 'a', 'b', 'c', 'd', 'e', 'f',\n",
    "       'g', 'h', 'i', 'j', 'k', 'l', 'm', 'n', 'o', 'p', 'q', 'r', 's', 't',\n",
    "       'u', 'v', 'w', 'x', 'y', 'z']\n",
    "print(factlabel[predicted_class_index])"
   ]
  }
 ],
 "metadata": {
  "kernelspec": {
   "display_name": "Python 3",
   "language": "python",
   "name": "python3"
  },
  "language_info": {
   "codemirror_mode": {
    "name": "ipython",
    "version": 3
   },
   "file_extension": ".py",
   "mimetype": "text/x-python",
   "name": "python",
   "nbconvert_exporter": "python",
   "pygments_lexer": "ipython3",
   "version": "3.10.11"
  }
 },
 "nbformat": 4,
 "nbformat_minor": 2
}
